{
 "cells": [
  {
   "cell_type": "code",
   "execution_count": 4,
   "id": "240f71eb-6891-4b38-91eb-ada42648dcd5",
   "metadata": {},
   "outputs": [
    {
     "name": "stdin",
     "output_type": "stream",
     "text": [
      "marks: 34\n"
     ]
    },
    {
     "name": "stdout",
     "output_type": "stream",
     "text": [
      "failed\n"
     ]
    }
   ],
   "source": [
    " a=eval(input(\"marks:\"))\n",
    "\n",
    "if a> 90:\n",
    "   print(\"A grade\")\n",
    "\n",
    "elif a> 70:\n",
    "    print(\"B grade\")\n",
    "    \n",
    "else :\n",
    "  print(\"failed\")"
   ]
  },
  {
   "cell_type": "code",
   "execution_count": 7,
   "id": "1b78cdf9-e6f1-42fb-8ae8-92e8bcc4485f",
   "metadata": {},
   "outputs": [
    {
     "name": "stdin",
     "output_type": "stream",
     "text": [
      "number1: 45\n",
      "number2: 47\n"
     ]
    },
    {
     "name": "stdout",
     "output_type": "stream",
     "text": [
      "n2 is larger number\n"
     ]
    }
   ],
   "source": [
    "n1=eval(input(\"number1:\"))\n",
    "n2=eval(input(\"number2:\"))\n",
    "if n1>n2:\n",
    "    print(\"n1 is larger number\")\n",
    "else:\n",
    "    print(\"n2 is larger number\")\n",
    "\n"
   ]
  },
  {
   "cell_type": "code",
   "execution_count": 25,
   "id": "9dedf0ea-1c52-44ce-b2b7-a2ac37a36b54",
   "metadata": {},
   "outputs": [
    {
     "name": "stdin",
     "output_type": "stream",
     "text": [
      "enter pin number 1234\n",
      "enter withdraw amount: 20\n"
     ]
    },
    {
     "name": "stdout",
     "output_type": "stream",
     "text": [
      "transaction successful\n"
     ]
    }
   ],
   "source": [
    "a=int(input(\"enter pin number\"))\n",
    "balance = 25000\n",
    "if a==1234:\n",
    "    amount = int(input(\"enter withdraw amount:\"))\n",
    "    if amount < balance:\n",
    "       print(\"transaction successful\")\n",
    "    else:\n",
    "       print(\"amount insufficient\")\n",
    "\n",
    "else:\n",
    "    print(\"invalid pin\")\n",
    "    "
   ]
  },
  {
   "cell_type": "code",
   "execution_count": null,
   "id": "73fa0367-f363-466d-9d76-96d9405edd29",
   "metadata": {},
   "outputs": [],
   "source": [
    "\n"
   ]
  }
 ],
 "metadata": {
  "kernelspec": {
   "display_name": "Python 3 (ipykernel)",
   "language": "python",
   "name": "python3"
  },
  "language_info": {
   "codemirror_mode": {
    "name": "ipython",
    "version": 3
   },
   "file_extension": ".py",
   "mimetype": "text/x-python",
   "name": "python",
   "nbconvert_exporter": "python",
   "pygments_lexer": "ipython3",
   "version": "3.11.7"
  }
 },
 "nbformat": 4,
 "nbformat_minor": 5
}
