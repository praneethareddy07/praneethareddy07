{
 "cells": [
  {
   "cell_type": "code",
   "execution_count": 2,
   "id": "aeabf9f0-189d-4093-8fcf-6d4cfdfe6c2e",
   "metadata": {},
   "outputs": [
    {
     "name": "stdout",
     "output_type": "stream",
     "text": [
      "[1, 3, 4, 5, 'srk']\n"
     ]
    }
   ],
   "source": [
    "l = [1,3,4,5]\n",
    "l.extend([\"srk\"]) \n",
    "print(l)\n",
    "\n",
    "\n"
   ]
  },
  {
   "cell_type": "code",
   "execution_count": 8,
   "id": "f36c5f5e-52a5-4cd5-9da2-574f4fc60e1e",
   "metadata": {},
   "outputs": [
    {
     "data": {
      "text/plain": [
       "20"
      ]
     },
     "execution_count": 8,
     "metadata": {},
     "output_type": "execute_result"
    }
   ],
   "source": [
    "s={4,5,2,20,20,'srk'}\n",
    "l=list(s)\n",
    "l.index(20)\n",
    "l[3]"
   ]
  },
  {
   "cell_type": "code",
   "execution_count": 9,
   "id": "2543cc59-21bd-4f53-ac65-d8f8a59565de",
   "metadata": {},
   "outputs": [
    {
     "data": {
      "text/plain": [
       "[1, 2, 3, 4, 5, 6, 7]"
      ]
     },
     "execution_count": 9,
     "metadata": {},
     "output_type": "execute_result"
    }
   ],
   "source": [
    "l1=[1,2,3,4]\n",
    "l2=[4,5,6,7]\n",
    "list(set(l1+l2))\n"
   ]
  },
  {
   "cell_type": "code",
   "execution_count": 12,
   "id": "1fd8dbd9-cebe-427c-9c6f-697918369ea4",
   "metadata": {},
   "outputs": [
    {
     "data": {
      "text/plain": [
       "set()"
      ]
     },
     "execution_count": 12,
     "metadata": {},
     "output_type": "execute_result"
    }
   ],
   "source": [
    "set()"
   ]
  },
  {
   "cell_type": "code",
   "execution_count": 13,
   "id": "d74eb54d-bdd5-4c64-a8d4-390b8d26676e",
   "metadata": {},
   "outputs": [
    {
     "data": {
      "text/plain": [
       "[]"
      ]
     },
     "execution_count": 13,
     "metadata": {},
     "output_type": "execute_result"
    }
   ],
   "source": [
    "[]"
   ]
  },
  {
   "cell_type": "code",
   "execution_count": 14,
   "id": "bda9ea9d-3852-4b6b-a5d8-69c9e6170e53",
   "metadata": {},
   "outputs": [
    {
     "data": {
      "text/plain": [
       "{}"
      ]
     },
     "execution_count": 14,
     "metadata": {},
     "output_type": "execute_result"
    }
   ],
   "source": [
    "{}\n"
   ]
  },
  {
   "cell_type": "code",
   "execution_count": 15,
   "id": "62d2e999-81cd-46f4-bad9-a13410be3be2",
   "metadata": {},
   "outputs": [
    {
     "data": {
      "text/plain": [
       "dict"
      ]
     },
     "execution_count": 15,
     "metadata": {},
     "output_type": "execute_result"
    }
   ],
   "source": [
    "s={0:7}\n",
    "type(s)"
   ]
  },
  {
   "cell_type": "code",
   "execution_count": 19,
   "id": "3d49dd9c-a934-4432-ac71-f69b275ba348",
   "metadata": {},
   "outputs": [
    {
     "data": {
      "text/plain": [
       "5"
      ]
     },
     "execution_count": 19,
     "metadata": {},
     "output_type": "execute_result"
    }
   ],
   "source": [
    "b=67\n",
    "b1=5\n",
    "b1\n"
   ]
  },
  {
   "cell_type": "code",
   "execution_count": 11,
   "id": "bb76b6c7-3a0e-49a9-81f5-8f924a7bb274",
   "metadata": {},
   "outputs": [
    {
     "name": "stdout",
     "output_type": "stream",
     "text": [
      "{'a': 45, 'c': {110: 32}}\n"
     ]
    }
   ],
   "source": [
    "b={\"a\":45,\"c\":{110:5}}\n",
    "b[\"c\"][110]= 32\n",
    "print(b)"
   ]
  },
  {
   "cell_type": "code",
   "execution_count": 13,
   "id": "012b51de-9527-4673-b1f3-6b9f0e27ed13",
   "metadata": {},
   "outputs": [
    {
     "data": {
      "text/plain": [
       "1"
      ]
     },
     "execution_count": 13,
     "metadata": {},
     "output_type": "execute_result"
    }
   ],
   "source": [
    "True+False"
   ]
  },
  {
   "cell_type": "code",
   "execution_count": 23,
   "id": "43cb2da5-7614-45b5-bc75-8a9587ca5dd4",
   "metadata": {},
   "outputs": [
    {
     "name": "stdout",
     "output_type": "stream",
     "text": [
      "1\n"
     ]
    }
   ],
   "source": [
    "a=9\n",
    "a%=4\n",
    "print(a)"
   ]
  },
  {
   "cell_type": "code",
   "execution_count": null,
   "id": "09370717-4051-4e57-a288-0d6658cc2eed",
   "metadata": {},
   "outputs": [],
   "source": [
    "a= float((input(\"marks:\")))\n",
    "if a>= 75:\n",
    " print(\"you are qualified\")\n",
    "else :\n",
    " print(\"you are disqualified\")\n"
   ]
  },
  {
   "cell_type": "code",
   "execution_count": 27,
   "id": "b89b2f1e-b898-4add-b1c5-16a05a916abb",
   "metadata": {},
   "outputs": [
    {
     "data": {
      "text/plain": [
       "True"
      ]
     },
     "execution_count": 27,
     "metadata": {},
     "output_type": "execute_result"
    }
   ],
   "source": [
    "5!=10-6"
   ]
  },
  {
   "cell_type": "code",
   "execution_count": null,
   "id": "8cb3e127-4457-4f9f-9a40-c4a4bff50123",
   "metadata": {},
   "outputs": [],
   "source": [
    "a=float(input(\"marks:\"))\n",
    "if a>= 75:\n",
    "print(\"you are qualified\")\n",
    "else :\n",
    "print(\"you are disqualified\")"
   ]
  },
  {
   "cell_type": "code",
   "execution_count": null,
   "id": "ccc53591-81be-4210-a34e-851bfaf4cf84",
   "metadata": {},
   "outputs": [],
   "source": []
  },
  {
   "cell_type": "code",
   "execution_count": null,
   "id": "e59399ed-978b-4228-a5c6-4f09dddefd8d",
   "metadata": {},
   "outputs": [],
   "source": []
  }
 ],
 "metadata": {
  "kernelspec": {
   "display_name": "Python 3 (ipykernel)",
   "language": "python",
   "name": "python3"
  },
  "language_info": {
   "codemirror_mode": {
    "name": "ipython",
    "version": 3
   },
   "file_extension": ".py",
   "mimetype": "text/x-python",
   "name": "python",
   "nbconvert_exporter": "python",
   "pygments_lexer": "ipython3",
   "version": "3.11.7"
  }
 },
 "nbformat": 4,
 "nbformat_minor": 5
}
